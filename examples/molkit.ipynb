{
 "cells": [
  {
   "cell_type": "markdown",
   "metadata": {},
   "source": [
    "## Molkit"
   ]
  },
  {
   "cell_type": "code",
   "execution_count": 1,
   "metadata": {},
   "outputs": [],
   "source": [
    "# import libraries\n",
    "import numpy as np\n",
    "from moha import HamHeisenberg\n",
    "\n",
    "J_eq = np.array([[0, 1],\n",
    "                 [1, 0]])\n",
    "J_ax = np.array([[0, 0.5],\n",
    "                 [0.5, 0]\n",
    "                 ])\n",
    "\n",
    "mu = np.zeros(2)\n",
    "\n",
    "ham = HamHeisenberg(J_eq=J_eq, J_ax=J_ax, mu=mu)\n",
    "one_body = ham.generate_one_body_integral(dense=True)\n",
    "two_body = ham.generate_two_body_integral(dense=True)"
   ]
  },
  {
   "cell_type": "code",
   "execution_count": 2,
   "metadata": {},
   "outputs": [],
   "source": [
    "import numpy as np\n",
    "from moha import HamHeisenberg\n",
    "from moha.molkit.hamiltonians import MolHam\n",
    "from moha.molkit.utils.tools import from_geminal\n",
    "from moha.molkit.utils.spinops import antisymmetrize_two_body\n",
    "\n",
    "def from_geminal(two_body_gem, n_orb):\n",
    "    \"\"\"\n",
    "    Inverse of MolHam.to_geminal().\n",
    "\n",
    "    Parameters\n",
    "    ----------\n",
    "    two_body_gem : (n_gem, n_gem) ndarray\n",
    "        Matrix in the geminal basis.\n",
    "    n_orb : int\n",
    "        Number of spin orbitals.\n",
    "\n",
    "    Returns\n",
    "    -------\n",
    "    V : (n_orb, n_orb, n_orb, n_orb) ndarray\n",
    "        Fully antisymmetrised two-electron tensor V_{ijkl}.\n",
    "    \"\"\"\n",
    "    n_gem = n_orb * (n_orb - 1) // 2\n",
    "    if two_body_gem.shape != (n_gem, n_gem):\n",
    "        raise ValueError(f\"Shape mismatch: got {two_body_gem.shape}, expected ({n_gem},{n_gem})\")\n",
    "\n",
    "    # Generate flattened pair list exactly like to_geminal\n",
    "    pairs = [(i, j) for i in range(n_orb) for j in range(i + 1, n_orb)]\n",
    "    V = np.zeros((n_orb, n_orb, n_orb, n_orb))\n",
    "\n",
    "    for A, (i, j) in enumerate(pairs):\n",
    "        for B, (k, l) in enumerate(pairs):\n",
    "            val = 0.25 * two_body_gem[A, B]  # undo the factor 0.5 * 4 = 2\n",
    "\n",
    "            # Apply antisymmetric filling\n",
    "            V[i, j, k, l] = val\n",
    "            V[j, i, k, l] = -val\n",
    "            V[i, j, l, k] = -val\n",
    "            V[j, i, l, k] = val\n",
    "            V[k, l, i, j] = val\n",
    "            V[l, k, i, j] = -val\n",
    "            V[k, l, j, i] = -val\n",
    "            V[l, k, j, i] = val\n",
    "\n",
    "    return V\n",
    "\n",
    "\n",
    "J_eq = np.array([[0, 1],\n",
    "                 [1, 0]])\n",
    "J_ax = np.array([[0, 0.5],\n",
    "                 [0.5, 0]])\n",
    "mu = np.zeros(2)\n",
    "\n",
    "ham_hei  = HamHeisenberg(J_eq=J_eq, J_ax=J_ax, mu=mu)\n",
    "one_body = ham_hei.generate_one_body_integral(dense=True)\n",
    "two_body = ham_hei.generate_two_body_integral(dense=True)\n",
    "Molecular_Hamiltonian = MolHam(one_body=one_body, two_body=two_body)\n",
    "\n",
    "h1_spin, h2_spin = Molecular_Hamiltonian.spinize_H()\n",
    "h2_spin = antisymmetrize_two_body(h2_spin)\n",
    "\n",
    "reduced = Molecular_Hamiltonian.to_reduced(n_elec=2)"
   ]
  },
  {
   "cell_type": "markdown",
   "metadata": {},
   "source": [
    "# Energies Tests"
   ]
  },
  {
   "cell_type": "code",
   "execution_count": 3,
   "metadata": {},
   "outputs": [
    {
     "name": "stdout",
     "output_type": "stream",
     "text": [
      "E_spin-orbital : 1.004059262354666e-12\n",
      "E_geminal      : 1.0040474662350293e-12\n"
     ]
    }
   ],
   "source": [
    "import numpy as np\n",
    "from pyscf import fci\n",
    "from moha.molkit.hamiltonians import MolHam\n",
    "\n",
    "\n",
    "h_sp = np.array([[1.0, 0.2],\n",
    "                 [0.2, 1.5]])\n",
    "\n",
    "V_sp = np.zeros((2, 2, 2, 2))\n",
    "V_sp[0, 0, 0, 0] = 0.7\n",
    "V_sp[1, 1, 1, 1] = 0.6\n",
    "\n",
    "N_ELEC, n_spin  = 2, 2                  \n",
    "toy = MolHam(h_sp, V_sp)\n",
    "\n",
    "h_spin, V_spin = toy.spinize_H()           \n",
    "norb = h_spin.shape[0]\n",
    "e_fci, ci_vec = fci.direct_spin1.kernel(h_spin, V_spin, norb, N_ELEC, ecore=0.0)\n",
    "rdm1s, rdm2s = fci.direct_spin1.make_rdm12s(ci_vec, norb, N_ELEC)\n",
    "\n",
    "rdm1 = np.block([\n",
    "    [rdm1s[0], np.zeros_like(rdm1s[0])],\n",
    "    [np.zeros_like(rdm1s[1]), rdm1s[1]]\n",
    "])\n",
    "\n",
    "n = norb // 2  # spatial orbitals\n",
    "rdm2 = np.zeros((2*n, 2*n, 2*n, 2*n))\n",
    "for i in range(n):\n",
    "    for j in range(n):\n",
    "        for k in range(n):\n",
    "            for l in range(n):\n",
    "                # αααα\n",
    "                rdm2[i, j, k, l] = rdm2s[0][i, k, j, l]\n",
    "                # ββββ\n",
    "                rdm2[i+n, j+n, k+n, l+n] = rdm2s[2][i, k, j, l]\n",
    "                # αβαβ\n",
    "                rdm2[i, j+n, k, l+n] = rdm2s[1][i, k, j, l]\n",
    "                # βαβα (hermitian transpose of αβαβ)\n",
    "                rdm2[i+n, j, k+n, l] = rdm2s[1][i, k, j, l]\n",
    "\n",
    "H = toy.to_reduced(n_elec=N_ELEC)  # H = h↑ + 0.5 * V\n",
    "E_spin = np.einsum('pqrs,pqrs', H, rdm2)\n",
    "\n",
    "H_gem = toy.to_geminal(H, type='h2')\n",
    "rdm_gem = toy.to_geminal(rdm2, type='rdm2')\n",
    "E_gem   = np.einsum('pq,pq', H_gem, rdm_gem)\n",
    "\n",
    "print(\"E_spin-orbital :\", E_spin)\n",
    "print(\"E_geminal      :\", E_gem)\n",
    "assert np.allclose(E_spin, E_gem, atol=1e-10), \"Energies do not match!\""
   ]
  }
 ],
 "metadata": {
  "kernelspec": {
   "display_name": "moha",
   "language": "python",
   "name": "python3"
  },
  "language_info": {
   "codemirror_mode": {
    "name": "ipython",
    "version": 3
   },
   "file_extension": ".py",
   "mimetype": "text/x-python",
   "name": "python",
   "nbconvert_exporter": "python",
   "pygments_lexer": "ipython3",
   "version": "3.11.13"
  }
 },
 "nbformat": 4,
 "nbformat_minor": 2
}
