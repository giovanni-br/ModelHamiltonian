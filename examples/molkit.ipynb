{
 "cells": [
  {
   "cell_type": "markdown",
   "metadata": {},
   "source": [
    "## Molkit"
   ]
  },
  {
   "cell_type": "code",
   "execution_count": 18,
   "metadata": {},
   "outputs": [],
   "source": [
    "# import libraries\n",
    "import numpy as np\n",
    "from moha import HamHeisenberg\n",
    "\n",
    "# 3-site exchange and axial couplings\n",
    "J_eq = np.array([[0, 1],\n",
    "                 [1, 0]])\n",
    "J_ax = np.array([[0, 0.5],\n",
    "                 [0.5, 0]\n",
    "                 ])\n",
    "\n",
    "mu = np.zeros(2)\n",
    "\n",
    "# Define the Hamiltonian for 3 sites\n",
    "ham = HamHeisenberg(J_eq=J_eq, J_ax=J_ax, mu=mu)\n",
    "one_body = ham.generate_one_body_integral(dense=True)\n",
    "two_body = ham.generate_two_body_integral(dense=True)"
   ]
  },
  {
   "cell_type": "code",
   "execution_count": 19,
   "metadata": {},
   "outputs": [],
   "source": [
    "import sys\n",
    "import os\n",
    "import sys  \n",
    "sys.path.insert(0, '../')\n",
    "from moha.molkit.hamiltonians import MolHam\n",
    "Molecular_Hamiltonian = MolHam(one_body=one_body, two_body=two_body)\n",
    "\n",
    "Molecular_Hamiltonian.spinize()"
   ]
  }
 ],
 "metadata": {
  "kernelspec": {
   "display_name": "Python 3",
   "language": "python",
   "name": "python3"
  },
  "language_info": {
   "codemirror_mode": {
    "name": "ipython",
    "version": 3
   },
   "file_extension": ".py",
   "mimetype": "text/x-python",
   "name": "python",
   "nbconvert_exporter": "python",
   "pygments_lexer": "ipython3",
   "version": "3.10.11"
  }
 },
 "nbformat": 4,
 "nbformat_minor": 2
}
