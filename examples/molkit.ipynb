{
 "cells": [
  {
   "cell_type": "markdown",
   "metadata": {},
   "source": [
    "## Molkit"
   ]
  },
  {
   "cell_type": "code",
   "execution_count": 2,
   "metadata": {},
   "outputs": [],
   "source": [
    "# import libraries\n",
    "import numpy as np\n",
    "from moha import HamHeisenberg\n",
    "\n",
    "# 3-site exchange and axial couplings\n",
    "J_eq = np.array([[0, 1],\n",
    "                 [1, 0]])\n",
    "J_ax = np.array([[0, 0.5],\n",
    "                 [0.5, 0]\n",
    "                 ])\n",
    "\n",
    "mu = np.zeros(2)\n",
    "\n",
    "# Define the Hamiltonian for 3 sites\n",
    "ham = HamHeisenberg(J_eq=J_eq, J_ax=J_ax, mu=mu)\n",
    "one_body = ham.generate_one_body_integral(dense=True)\n",
    "two_body = ham.generate_two_body_integral(dense=True)"
   ]
  },
  {
   "cell_type": "code",
   "execution_count": 10,
   "metadata": {},
   "outputs": [],
   "source": [
    "import sys\n",
    "import os\n",
    "import sys  \n",
    "sys.path.insert(0, '../')\n",
    "from moha.molkit.hamiltonians import MolHam\n",
    "Molecular_Hamiltonian = MolHam(one_body=one_body, two_body=two_body)\n",
    "\n",
    "spin_one, spin_two = Molecular_Hamiltonian.spinize_H()"
   ]
  },
  {
   "cell_type": "code",
   "execution_count": 16,
   "metadata": {},
   "outputs": [],
   "source": [
    "# ------------------------------------------------------------------\n",
    "# 1) Set up the 3-site Heisenberg model exactly as you did\n",
    "# ------------------------------------------------------------------\n",
    "import numpy as np\n",
    "from moha import HamHeisenberg\n",
    "from moha.molkit.hamiltonians import MolHam  \n",
    "from moha.molkit.utils.tools import from_geminal\n",
    "\n",
    "J_eq = np.array([[0, 1],\n",
    "                 [1, 0]])\n",
    "J_ax = np.array([[0, 0.5],\n",
    "                 [0.5, 0]])\n",
    "mu = np.zeros(2)\n",
    "\n",
    "ham_hei  = HamHeisenberg(J_eq=J_eq, J_ax=J_ax, mu=mu)\n",
    "one_body = ham_hei.generate_one_body_integral(dense=True)\n",
    "two_body = ham_hei.generate_two_body_integral(dense=True)\n",
    "Molecular_Hamiltonian = MolHam(one_body=one_body, two_body=two_body)\n",
    "\n",
    "h1_spin, h2_spin = Molecular_Hamiltonian.spinize_H()\n",
    "\n",
    "\n",
    "\n",
    "G = MolHam.to_geminal(h2_spin, type='h2')            # shape: (n_gem, n_gem)"
   ]
  },
  {
   "cell_type": "code",
   "execution_count": null,
   "metadata": {},
   "outputs": [],
   "source": []
  }
 ],
 "metadata": {
  "kernelspec": {
   "display_name": "Python 3",
   "language": "python",
   "name": "python3"
  },
  "language_info": {
   "codemirror_mode": {
    "name": "ipython",
    "version": 3
   },
   "file_extension": ".py",
   "mimetype": "text/x-python",
   "name": "python",
   "nbconvert_exporter": "python",
   "pygments_lexer": "ipython3",
   "version": "3.10.11"
  }
 },
 "nbformat": 4,
 "nbformat_minor": 2
}
