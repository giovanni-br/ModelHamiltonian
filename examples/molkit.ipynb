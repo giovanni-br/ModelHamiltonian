{
 "cells": [
  {
   "cell_type": "markdown",
   "metadata": {},
   "source": [
    "## Molkit"
   ]
  },
  {
   "cell_type": "code",
   "execution_count": 1,
   "metadata": {},
   "outputs": [],
   "source": [
    "# import libraries\n",
    "import numpy as np\n",
    "from moha import HamHeisenberg\n",
    "\n",
    "J_eq = np.array([[0, 1],\n",
    "                 [1, 0]])\n",
    "J_ax = np.array([[0, 0.5],\n",
    "                 [0.5, 0]\n",
    "                 ])\n",
    "\n",
    "mu = np.zeros(2)\n",
    "\n",
    "ham = HamHeisenberg(J_eq=J_eq, J_ax=J_ax, mu=mu)\n",
    "one_body = ham.generate_one_body_integral(dense=True)\n",
    "two_body = ham.generate_two_body_integral(dense=True)"
   ]
  },
  {
   "cell_type": "code",
   "execution_count": null,
   "metadata": {},
   "outputs": [
    {
     "name": "stdout",
     "output_type": "stream",
     "text": [
      "Max error: 1.0\n"
     ]
    }
   ],
   "source": [
    "import numpy as np\n",
    "from moha import HamHeisenberg\n",
    "from moha.molkit.hamiltonians import MolHam\n",
    "from moha.molkit.utils.tools import from_geminal\n",
    "from moha.molkit.utils.spinops import antisymmetrize_two_body\n",
    "\n",
    "def from_geminal(two_body_gem, n_orb):\n",
    "    \"\"\"\n",
    "    Inverse of MolHam.to_geminal().\n",
    "\n",
    "    Parameters\n",
    "    ----------\n",
    "    two_body_gem : (n_gem, n_gem) ndarray\n",
    "        Matrix in the geminal basis.\n",
    "    n_orb : int\n",
    "        Number of spin orbitals.\n",
    "\n",
    "    Returns\n",
    "    -------\n",
    "    V : (n_orb, n_orb, n_orb, n_orb) ndarray\n",
    "        Fully antisymmetrised two-electron tensor V_{ijkl}.\n",
    "    \"\"\"\n",
    "    n_gem = n_orb * (n_orb - 1) // 2\n",
    "    if two_body_gem.shape != (n_gem, n_gem):\n",
    "        raise ValueError(f\"Shape mismatch: got {two_body_gem.shape}, expected ({n_gem},{n_gem})\")\n",
    "\n",
    "    # Generate flattened pair list exactly like to_geminal\n",
    "    pairs = [(i, j) for i in range(n_orb) for j in range(i + 1, n_orb)]\n",
    "    V = np.zeros((n_orb, n_orb, n_orb, n_orb))\n",
    "\n",
    "    for A, (i, j) in enumerate(pairs):\n",
    "        for B, (k, l) in enumerate(pairs):\n",
    "            val = 0.25 * two_body_gem[A, B]  # undo the factor 0.5 * 4 = 2\n",
    "\n",
    "            # Apply antisymmetric filling\n",
    "            V[i, j, k, l] = val\n",
    "            V[j, i, k, l] = -val\n",
    "            V[i, j, l, k] = -val\n",
    "            V[j, i, l, k] = val\n",
    "            V[k, l, i, j] = val\n",
    "            V[l, k, i, j] = -val\n",
    "            V[k, l, j, i] = -val\n",
    "            V[l, k, j, i] = val\n",
    "\n",
    "    return V\n",
    "\n",
    "\n",
    "J_eq = np.array([[0, 1],\n",
    "                 [1, 0]])\n",
    "J_ax = np.array([[0, 0.5],\n",
    "                 [0.5, 0]])\n",
    "mu = np.zeros(2)\n",
    "\n",
    "ham_hei  = HamHeisenberg(J_eq=J_eq, J_ax=J_ax, mu=mu)\n",
    "one_body = ham_hei.generate_one_body_integral(dense=True)\n",
    "two_body = ham_hei.generate_two_body_integral(dense=True)\n",
    "Molecular_Hamiltonian = MolHam(one_body=one_body, two_body=two_body)\n",
    "\n",
    "h1_spin, h2_spin = Molecular_Hamiltonian.spinize_H()\n",
    "h2_spin = antisymmetrize_two_body(h2_spin)\n",
    "\n",
    "G = MolHam.to_geminal(h2_spin)   \n",
    "n_orb = h2_spin.shape[0]\n",
    "\n",
    "V = from_geminal(G, n_orb = n_orb)\n",
    "print(\"Max error:\", np.max(np.abs(h2_spin - V)))\n"
   ]
  }
 ],
 "metadata": {
  "kernelspec": {
   "display_name": "base",
   "language": "python",
   "name": "python3"
  },
  "language_info": {
   "codemirror_mode": {
    "name": "ipython",
    "version": 3
   },
   "file_extension": ".py",
   "mimetype": "text/x-python",
   "name": "python",
   "nbconvert_exporter": "python",
   "pygments_lexer": "ipython3",
   "version": "3.12.3"
  }
 },
 "nbformat": 4,
 "nbformat_minor": 2
}
